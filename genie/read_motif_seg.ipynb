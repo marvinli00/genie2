{
 "cells": [
  {
   "cell_type": "code",
   "execution_count": 6,
   "metadata": {},
   "outputs": [],
   "source": [
    "#write a function to read the motif segments from the pdb file\n",
    "import os\n",
    "from Bio.PDB import PDBParser\n",
    "def read_motif_segments(pdb_file):\n",
    "    #read the pdb file\n",
    "    parser = PDBParser(QUIET=True)\n",
    "    structure = parser.get_structure('5YUI', pdb_file)\n",
    "    return structure\n",
    "\n",
    "structure = read_motif_segments(\"/home/pc/Documents/protein_design/twisted_diffusion_sampler/protein_exp/motif_scaffolding/targets/5YUI_motif.pdb\")"
   ]
  },
  {
   "cell_type": "code",
   "execution_count": 7,
   "metadata": {},
   "outputs": [],
   "source": [
    "#leave c-alpha atoms only\n",
    "ca_atoms = [atom for atom in structure.get_atoms() if atom.get_name() == 'CA']\n"
   ]
  },
  {
   "cell_type": "code",
   "execution_count": 9,
   "metadata": {},
   "outputs": [],
   "source": [
    "#partition into 5, 3, 3\n",
    "motif_segments = {}\n",
    "motif_segments['motif_1'] = ca_atoms[:5]\n",
    "motif_segments['motif_2'] = ca_atoms[5:8]\n",
    "motif_segments['motif_3'] = ca_atoms[8:]"
   ]
  },
  {
   "cell_type": "code",
   "execution_count": 19,
   "metadata": {},
   "outputs": [],
   "source": [
    "#get coordinates of the motifs\n",
    "motif_coords = {}\n",
    "motif_coords['motif_1'] = [atom.get_coord() for atom in motif_segments['motif_1']]\n",
    "motif_coords['motif_2'] = [atom.get_coord() for atom in motif_segments['motif_2']]\n",
    "motif_coords['motif_3'] = [atom.get_coord() for atom in motif_segments['motif_3']]\n"
   ]
  },
  {
   "cell_type": "code",
   "execution_count": 20,
   "metadata": {},
   "outputs": [
    {
     "data": {
      "text/plain": [
       "[array([6.737, 4.407, 3.971], dtype=float32),\n",
       " array([7.74 , 0.842, 3.056], dtype=float32),\n",
       " array([9.981, 1.956, 0.169], dtype=float32)]"
      ]
     },
     "execution_count": 20,
     "metadata": {},
     "output_type": "execute_result"
    }
   ],
   "source": [
    "motif_coords['motif_3']"
   ]
  },
  {
   "cell_type": "code",
   "execution_count": 21,
   "metadata": {},
   "outputs": [
    {
     "data": {
      "text/plain": [
       "array([[-1.415667  ,  2.0053334 ,  1.5723333 ],\n",
       "       [-0.41266727, -1.5596666 ,  0.6573334 ],\n",
       "       [ 1.8283329 , -0.44566667, -2.2296667 ]], dtype=float32)"
      ]
     },
     "execution_count": 21,
     "metadata": {},
     "output_type": "execute_result"
    }
   ],
   "source": [
    "#find the central locations of the motifs\n",
    "import numpy as np\n",
    "#def a translation matrix to make their centers of mass at the origin\n",
    "def center_coordinates(coords):\n",
    "    \"\"\"\n",
    "    Center a list of 3D coordinates by subtracting the mean.\n",
    "    \n",
    "    Parameters:\n",
    "    coords: numpy array of shape (N, 3) or list of [x, y, z] coordinates\n",
    "    \n",
    "    Returns:\n",
    "    numpy array of centered coordinates with same shape as input\n",
    "    \"\"\"\n",
    "    # Convert to numpy array if input is a list\n",
    "    coords = np.array(coords)\n",
    "    \n",
    "    # Calculate mean along each axis\n",
    "    center = np.mean(coords, axis=0)\n",
    "    \n",
    "    # Subtract mean from all points\n",
    "    centered_coords = coords - center\n",
    "    \n",
    "    return centered_coords\n",
    "\n",
    "center_coordinates(motif_coords['motif_3'])"
   ]
  }
 ],
 "metadata": {
  "kernelspec": {
   "display_name": "base",
   "language": "python",
   "name": "python3"
  },
  "language_info": {
   "codemirror_mode": {
    "name": "ipython",
    "version": 3
   },
   "file_extension": ".py",
   "mimetype": "text/x-python",
   "name": "python",
   "nbconvert_exporter": "python",
   "pygments_lexer": "ipython3",
   "version": "3.10.9"
  }
 },
 "nbformat": 4,
 "nbformat_minor": 2
}

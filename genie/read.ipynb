{
 "cells": [
  {
   "cell_type": "code",
   "execution_count": 1,
   "metadata": {},
   "outputs": [
    {
     "name": "stdout",
     "output_type": "stream",
     "text": [
      "[array([[ 0.8600519 , -0.27814763,  0.3773702 , -0.20133641, -2.78109314,\n",
      "         3.31906996, -4.77001102],\n",
      "       [ 0.45268098,  0.52727341, -0.71055765, -0.11032003, -0.38509323,\n",
      "         0.50707005, -5.53701122],\n",
      "       [ 0.96000224, -0.22843085, -0.02485396, -0.15999166,  0.26590679,\n",
      "        -3.11592998, -4.56001098],\n",
      "       [ 0.07906335, -0.58380653,  0.80723154, -0.0360023 ,  3.0379071 ,\n",
      "        -5.37193002, -3.31301124],\n",
      "       [ 0.94092007,  0.08118389,  0.01113386, -0.32856452,  2.94090698,\n",
      "        -9.02292957, -4.38201149]]), array([[-0.19051496, -0.73664251, -0.37441827, -0.52997436, -2.92509319,\n",
      "        -2.97592987, -1.49801071],\n",
      "       [-0.33808185,  0.39990109,  0.27788058, -0.80533357, -1.84009316,\n",
      "         0.45407004, -0.244011  ],\n",
      "       [-0.10309809, -0.8297164 , -0.4061517 , -0.36875775, -4.19709303,\n",
      "         3.43207012, -0.70501144]]), array([[-0.66416736, -0.5462588 ,  0.3230272 ,  0.39514109,  6.73690651,\n",
      "         4.40707026,  3.97098915],\n",
      "       [ 0.89653011, -0.16889779,  0.40718445,  0.04368211,  7.73990677,\n",
      "         0.84207002,  3.05598824],\n",
      "       [ 0.75347049,  0.44453295,  0.12621787,  0.46769833,  9.9809079 ,\n",
      "         1.95607005,  0.16898911]])]\n"
     ]
    }
   ],
   "source": [
    "import pickle\n",
    "\n",
    "with open('/home/pc/Documents/protein_design/twisted_diffusion_sampler/protein_exp/motif_scaffolding/targets/5YUI_motif_segments.pkl', 'rb') as f:\n",
    "    data = pickle.load(f)\n",
    "\n",
    "print(data)"
   ]
  },
  {
   "cell_type": "code",
   "execution_count": 3,
   "metadata": {},
   "outputs": [],
   "source": [
    "from Bio import PDB\n",
    "import numpy as np\n",
    "\n",
    "def extract_ca_motifs_5YUI(pdb_file):\n",
    "    \"\"\"\n",
    "    Extract the C-alpha atoms for the three motifs from 5YUI PDB file:\n",
    "    1. A93-97\n",
    "    2. A118-120\n",
    "    3. A198-200\n",
    "    \n",
    "    Args:\n",
    "        pdb_file (str): Path to the PDB file\n",
    "    \n",
    "    Returns:\n",
    "        dict: Dictionary containing the extracted C-alpha atoms for each motif\n",
    "    \"\"\"\n",
    "    # Initialize PDB parser\n",
    "    parser = PDB.PDBParser(QUIET=True)\n",
    "    structure = parser.get_structure('5YUI', pdb_file)\n",
    "    \n",
    "    # Define the motif regions\n",
    "    motifs = {\n",
    "        'motif1': (93, 97),\n",
    "        'motif2': (118, 120),\n",
    "        'motif3': (198, 200)\n",
    "    }\n",
    "    \n",
    "    # Dictionary to store extracted motifs\n",
    "    extracted_motifs = {}\n",
    "    \n",
    "    # Get chain A\n",
    "    chain_A = structure[0]['A']  # Model 0, Chain A\n",
    "    \n",
    "    # Extract C-alpha atoms for each motif\n",
    "    for motif_name, (start, end) in motifs.items():\n",
    "        motif_ca_atoms = []\n",
    "        for residue in chain_A:\n",
    "            if start <= residue.id[1] <= end:\n",
    "                # Get only C-alpha atom from each residue\n",
    "                ca_atom = residue['CA']\n",
    "                if ca_atom is not None:\n",
    "                    motif_ca_atoms.append(ca_atom)\n",
    "        \n",
    "        extracted_motifs[motif_name] = motif_ca_atoms\n",
    "        \n",
    "        # Print information about the extracted motif\n",
    "        print(f\"\\n{motif_name} ({start}-{end}):\")\n",
    "        print(f\"Number of C-alpha atoms: {len(motif_ca_atoms)}\")\n",
    "        print(\"C-alpha positions:\")\n",
    "        for atom in motif_ca_atoms:\n",
    "            res = atom.get_parent()\n",
    "            print(f\"Residue {res.id[1]} ({PDB.Polypeptide.three_to_one(res.get_resname())}): {atom.get_coord()}\")\n",
    "    \n",
    "    return extracted_motifs\n",
    "\n",
    "def save_ca_motif_pdb(structure, ca_atoms, output_file):\n",
    "    \"\"\"\n",
    "    Save selected C-alpha atoms as a new PDB file\n",
    "    \"\"\"\n",
    "    class CASelect(PDB.Select):\n",
    "        def __init__(self, ca_atoms):\n",
    "            self.ca_atoms = ca_atoms\n",
    "            \n",
    "        def accept_atom(self, atom):\n",
    "            return atom in self.ca_atoms\n",
    "    \n",
    "    io = PDB.PDBIO()\n",
    "    io.set_structure(structure)\n",
    "    io.save(output_file, CASelect(ca_atoms))\n",
    "\n"
   ]
  },
  {
   "cell_type": "code",
   "execution_count": 4,
   "metadata": {},
   "outputs": [
    {
     "name": "stdout",
     "output_type": "stream",
     "text": [
      "\n",
      "motif1 (93-97):\n",
      "Number of C-alpha atoms: 0\n",
      "C-alpha positions:\n",
      "\n",
      "motif2 (118-120):\n",
      "Number of C-alpha atoms: 0\n",
      "C-alpha positions:\n",
      "\n",
      "motif3 (198-200):\n",
      "Number of C-alpha atoms: 0\n",
      "C-alpha positions:\n"
     ]
    },
    {
     "ename": "NameError",
     "evalue": "name 'output_file' is not defined",
     "output_type": "error",
     "traceback": [
      "\u001b[0;31m---------------------------------------------------------------------------\u001b[0m",
      "\u001b[0;31mNameError\u001b[0m                                 Traceback (most recent call last)",
      "Cell \u001b[0;32mIn[4], line 12\u001b[0m\n\u001b[1;32m      7\u001b[0m structure \u001b[38;5;241m=\u001b[39m parser\u001b[38;5;241m.\u001b[39mget_structure(\u001b[38;5;124m'\u001b[39m\u001b[38;5;124m5YUI\u001b[39m\u001b[38;5;124m'\u001b[39m, pdb_file)\n\u001b[1;32m      9\u001b[0m \u001b[38;5;28;01mfor\u001b[39;00m motif_name, ca_atoms \u001b[38;5;129;01min\u001b[39;00m motifs\u001b[38;5;241m.\u001b[39mitems():\n\u001b[1;32m     10\u001b[0m     \u001b[38;5;66;03m#output_file = f\"5YUI_{motif_name}_CA.pdb\"\u001b[39;00m\n\u001b[1;32m     11\u001b[0m     \u001b[38;5;66;03m#save_ca_motif_pdb(structure, ca_atoms, output_file)\u001b[39;00m\n\u001b[0;32m---> 12\u001b[0m     \u001b[38;5;28mprint\u001b[39m(\u001b[38;5;124mf\u001b[39m\u001b[38;5;124m\"\u001b[39m\u001b[38;5;130;01m\\n\u001b[39;00m\u001b[38;5;124mSaved \u001b[39m\u001b[38;5;132;01m{\u001b[39;00mmotif_name\u001b[38;5;132;01m}\u001b[39;00m\u001b[38;5;124m C-alpha atoms to \u001b[39m\u001b[38;5;132;01m{\u001b[39;00moutput_file\u001b[38;5;132;01m}\u001b[39;00m\u001b[38;5;124m\"\u001b[39m)\n",
      "\u001b[0;31mNameError\u001b[0m: name 'output_file' is not defined"
     ]
    }
   ],
   "source": [
    "\n",
    "pdb_file = \"/home/pc/Documents/protein_design/twisted_diffusion_sampler/protein_exp/motif_scaffolding/targets/5YUI_motif.pdb\"  # Replace with your actual path\n",
    "motifs = extract_ca_motifs_5YUI(pdb_file)\n",
    "\n",
    "# Save each motif as separate PDB file\n",
    "parser = PDB.PDBParser(QUIET=True)\n",
    "structure = parser.get_structure('5YUI', pdb_file)\n",
    "\n",
    "for motif_name, ca_atoms in motifs.items():\n",
    "    #output_file = f\"5YUI_{motif_name}_CA.pdb\"\n",
    "    #save_ca_motif_pdb(structure, ca_atoms, output_file)\n",
    "    print(f\"\\nSaved {motif_name} C-alpha atoms to {output_file}\")"
   ]
  }
 ],
 "metadata": {
  "kernelspec": {
   "display_name": "base",
   "language": "python",
   "name": "python3"
  },
  "language_info": {
   "codemirror_mode": {
    "name": "ipython",
    "version": 3
   },
   "file_extension": ".py",
   "mimetype": "text/x-python",
   "name": "python",
   "nbconvert_exporter": "python",
   "pygments_lexer": "ipython3",
   "version": "3.10.9"
  }
 },
 "nbformat": 4,
 "nbformat_minor": 2
}
